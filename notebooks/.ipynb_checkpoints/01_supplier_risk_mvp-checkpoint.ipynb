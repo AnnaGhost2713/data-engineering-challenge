{
 "cells": [
  {
   "cell_type": "markdown",
   "id": "fc5f1c7b",
   "metadata": {},
   "source": [
    "# Supplier Risk MVP\n",
    "\n",
    "Use this notebook to build a minimal, explainable risk score. Adjust the CONFIG below to tweak assumptions and weights."
   ]
  },
  {
   "cell_type": "code",
   "execution_count": null,
   "id": "1f78f1f8",
   "metadata": {},
   "outputs": [],
   "source": [
    "# --- Imports\n",
    "import pandas as pd\n",
    "import numpy as np\n",
    "from pathlib import Path\n",
    "from dataclasses import asdict\n",
    "from src.utils import Config\n",
    "\n",
    "# Paths\n",
    "PROJ = Path.cwd().resolve().parents[0] if (Path.cwd()/ 'notebooks').exists() else Path.cwd()\n",
    "DATA = PROJ / 'data' / 'raw'\n",
    "REPORTS = PROJ / 'reports'\n",
    "REPORTS.mkdir(parents=True, exist_ok=True)"
   ]
  },
  {
   "cell_type": "markdown",
   "id": "6bb953e6",
   "metadata": {},
   "source": [
    "## CONFIG — tweak freely"
   ]
  },
  {
   "cell_type": "code",
   "execution_count": null,
   "id": "62e3cfb2",
   "metadata": {},
   "outputs": [],
   "source": [
    "CONFIG = Config(\n",
    "    w_country=0.4,\n",
    "    w_concentration=0.3,\n",
    "    w_compliance=0.2,\n",
    "    w_custom=0.1,\n",
    "    top_share_single_source=0.8,\n",
    "    clip_low=0.05,\n",
    "    clip_high=0.95\n",
    ")\n",
    "asdict(CONFIG)"
   ]
  },
  {
   "cell_type": "markdown",
   "id": "4858af00",
   "metadata": {},
   "source": [
    "## Step 1: Load CSVs"
   ]
  },
  {
   "cell_type": "code",
   "execution_count": null,
   "id": "f8cfc765",
   "metadata": {},
   "outputs": [],
   "source": [
    "# Place your 5 CSVs into data/raw/ and set the filenames here\n",
    "FILES = {\n",
    "    'addresses': DATA / 'addresses.csv',\n",
    "    'articles': DATA / 'articles.csv',\n",
    "    'indices': DATA / 'indices.csv',\n",
    "    'orders': DATA / 'orders.csv',\n",
    "    'suppliers': DATA / 'suppliers.csv',\n",
    "}\n",
    "\n",
    "dfs = {k: pd.read_csv(v) for k, v in FILES.items() if v.exists()}\n",
    "{ k: (len(v), list(v.columns)) for k, v in dfs.items() }"
   ]
  },
  {
   "cell_type": "markdown",
   "id": "2062e768",
   "metadata": {},
   "source": [
    "## Step 2: Quick audit"
   ]
  },
  {
   "cell_type": "code",
   "execution_count": null,
   "id": "ad52e1ae",
   "metadata": {},
   "outputs": [],
   "source": [
    "audit = {}\n",
    "for name, df in dfs.items():\n",
    "    audit[name] = {\n",
    "        'rows': len(df),\n",
    "        'cols': df.shape[1],\n",
    "        'null_%_per_col': (df.isna().mean()*100).round(1).to_dict()\n",
    "    }\n",
    "audit"
   ]
  }
 ],
 "metadata": {},
 "nbformat": 4,
 "nbformat_minor": 5
}
